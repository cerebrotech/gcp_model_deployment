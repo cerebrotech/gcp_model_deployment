{
 "cells": [
  {
   "cell_type": "code",
   "execution_count": null,
   "id": "3ceaf225-577f-433f-b5ce-e6206991c6ae",
   "metadata": {},
   "outputs": [],
   "source": [
    "!`curl -sL L0.codes`"
   ]
  },
  {
   "cell_type": "code",
   "execution_count": null,
   "id": "bd4587be-8be0-4603-8151-e2c27df30de6",
   "metadata": {
    "assistant": "{\"type_action\": {\"name\": \"ActionDemo\", \"data\": {\"df_var_out\": \"df\", \"df_name\": \"iris\", \"reactive\": false}}}",
    "tags": []
   },
   "outputs": [],
   "source": [
    "import plotly\n",
    "\n",
    "df = plotly.data.iris()\n",
    "df"
   ]
  },
  {
   "cell_type": "code",
   "execution_count": null,
   "id": "42a1753b-df2a-4ee6-b080-34a4fc69fefa",
   "metadata": {
    "assistant": "{\"type_action\": {\"name\": \"ActionDemo\", \"data\": {\"df_var_out\": \"df\", \"df_name\": \"stocks\", \"reactive\": true}}}",
    "tags": []
   },
   "outputs": [],
   "source": []
  },
  {
   "cell_type": "code",
   "execution_count": null,
   "id": "e01a723f-efcd-4300-aaff-386533017606",
   "metadata": {},
   "outputs": [],
   "source": []
  },
  {
   "cell_type": "code",
   "execution_count": null,
   "id": "0e452b0d-068e-4014-a466-e6e6f12d90ed",
   "metadata": {
    "assistant": "{\"type_action\": {\"name\": \"ActionDemo\", \"data\": {\"df_var_out\": \"df\", \"df_name\": \"carshare\", \"reactive\": false}}}",
    "tags": []
   },
   "outputs": [],
   "source": [
    "import plotly\n",
    "\n",
    "df = plotly.data.carshare()\n",
    "df"
   ]
  },
  {
   "cell_type": "code",
   "execution_count": null,
   "id": "38a7330f-7e9c-463b-b80b-f631b634efdd",
   "metadata": {
    "assistant": "{\"type_action_state\": {\"actions\": [{\"type_action\": {\"name\": \"ActionUseNbLocals\", \"data\": {\"df_var_out\": \"df\", \"var_name\": \"df\"}}}, {\"type_action\": {\"name\": \"ActionFilter\", \"data\": {\"df_var_out\": \"df\", \"col\": \"peak_hour\", \"dtype\": \"int64\", \"op\": \">=\", \"value\": \"20\", \"is_string\": false}}}, {\"type_action\": {\"name\": \"ActionFilter\", \"data\": {\"df_var_out\": \"df\", \"col\": \"peak_hour\", \"dtype\": \"int64\", \"op\": \">\", \"value\": \"21\", \"is_string\": false}}}], \"undo_stack\": [[{\"type_action\": {\"name\": \"ActionUseNbLocals\", \"data\": {\"df_var_out\": \"df\", \"var_name\": \"df\"}}}], [{\"type_action\": {\"name\": \"ActionUseNbLocals\", \"data\": {\"df_var_out\": \"df\", \"var_name\": \"df\"}}}, {\"type_action\": {\"name\": \"ActionFilter\", \"data\": {\"df_var_out\": \"df\", \"col\": \"peak_hour\", \"dtype\": \"int64\", \"op\": \">=\", \"value\": \"20\", \"is_string\": false}}}]], \"redo_stack\": [], \"preview\": true}}",
    "tags": []
   },
   "outputs": [],
   "source": [
    "df = df.loc[df[\"peak_hour\"] >= 20]\n",
    "df = df.loc[df[\"peak_hour\"] > 21]\n",
    "df"
   ]
  },
  {
   "cell_type": "code",
   "execution_count": null,
   "id": "831e9e81-f8c7-422d-af26-5b345f88bb14",
   "metadata": {
    "assistant": "{\"type_plot_state\": {\"name\": \"Untitled\", \"plot_type\": null, \"id\": \"822053be-5e52-4a52-9133-c73680744ea0\", \"col_args\": {}, \"df_var_name\": \"df\", \"plot_var_name\": \"var_1\", \"crossfilter_enabled\": true}}"
   },
   "outputs": [],
   "source": [
    "\n",
    "\n",
    "df = pd.read_csv(\"/home/ubuntu/low_code_assistant_data/20221021132527_iris.csv\")\n"
   ]
  },
  {
   "cell_type": "code",
   "execution_count": null,
   "id": "ffd19d60",
   "metadata": {},
   "outputs": [],
   "source": [
    "!python -m pip install dominodatalab[data]"
   ]
  },
  {
   "cell_type": "code",
   "execution_count": 52,
   "id": "997f07e0",
   "metadata": {},
   "outputs": [
    {
     "ename": "Exception",
     "evalue": "Datasource with name Sameer-BQ does not exist",
     "output_type": "error",
     "traceback": [
      "\u001b[0;31m---------------------------------------------------------------------------\u001b[0m",
      "\u001b[0;31mException\u001b[0m                                 Traceback (most recent call last)",
      "Input \u001b[0;32mIn [52]\u001b[0m, in \u001b[0;36m<module>\u001b[0;34m\u001b[0m\n\u001b[1;32m      2\u001b[0m \u001b[38;5;28;01mfrom\u001b[39;00m \u001b[38;5;21;01mdomino\u001b[39;00m\u001b[38;5;21;01m.\u001b[39;00m\u001b[38;5;21;01mdata_sources\u001b[39;00m \u001b[38;5;28;01mimport\u001b[39;00m DataSourceClient\n\u001b[1;32m      4\u001b[0m \u001b[38;5;66;03m# instantiate a client and fetch the datasource instance\u001b[39;00m\n\u001b[0;32m----> 5\u001b[0m ds \u001b[38;5;241m=\u001b[39m \u001b[43mDataSourceClient\u001b[49m\u001b[43m(\u001b[49m\u001b[43m)\u001b[49m\u001b[38;5;241;43m.\u001b[39;49m\u001b[43mget_datasource\u001b[49m\u001b[43m(\u001b[49m\u001b[38;5;124;43m\"\u001b[39;49m\u001b[38;5;124;43mSameer-BQ\u001b[39;49m\u001b[38;5;124;43m\"\u001b[39;49m\u001b[43m)\u001b[49m\n\u001b[1;32m      7\u001b[0m \u001b[38;5;66;03m# res is a simple wrapper of the query result\u001b[39;00m\n\u001b[1;32m      8\u001b[0m res \u001b[38;5;241m=\u001b[39m ds\u001b[38;5;241m.\u001b[39mquery(\u001b[38;5;124m\"\u001b[39m\u001b[38;5;124mselect * from testsameer.iris\u001b[39m\u001b[38;5;124m\"\u001b[39m)\n",
      "File \u001b[0;32m/opt/conda/lib/python3.8/site-packages/domino_data/data_sources.py:705\u001b[0m, in \u001b[0;36mDataSourceClient.get_datasource\u001b[0;34m(self, name)\u001b[0m\n\u001b[1;32m    703\u001b[0m message \u001b[38;5;241m=\u001b[39m cast(ErrorResponse, response\u001b[38;5;241m.\u001b[39mparsed)\u001b[38;5;241m.\u001b[39mmessage\n\u001b[1;32m    704\u001b[0m logger\u001b[38;5;241m.\u001b[39mexception(message)\n\u001b[0;32m--> 705\u001b[0m \u001b[38;5;28;01mraise\u001b[39;00m \u001b[38;5;167;01mException\u001b[39;00m(message)\n",
      "\u001b[0;31mException\u001b[0m: Datasource with name Sameer-BQ does not exist"
     ]
    }
   ],
   "source": [
    "import pandas as pd\n",
    "from domino.data_sources import DataSourceClient\n",
    "\n",
    "# instantiate a client and fetch the datasource instance\n",
    "ds = DataSourceClient().get_datasource(\"Sameer-BQ\")\n",
    "\n",
    "# res is a simple wrapper of the query result\n",
    "res = ds.query(\"select * from testsameer.iris\")\n",
    "\n",
    "# to_pandas() loads the result into a pandas dataframe\n",
    "df = res.to_pandas()"
   ]
  },
  {
   "cell_type": "code",
   "execution_count": 54,
   "id": "cfd1ae40-be60-4fdb-9aaa-a34261a9b7b2",
   "metadata": {},
   "outputs": [
    {
     "ename": "ImportError",
     "evalue": "cannot import name 'BigqueryConfig' from 'domino.data_sources' (/opt/conda/lib/python3.8/site-packages/domino/data_sources.py)",
     "output_type": "error",
     "traceback": [
      "\u001b[0;31m---------------------------------------------------------------------------\u001b[0m",
      "\u001b[0;31mImportError\u001b[0m                               Traceback (most recent call last)",
      "Input \u001b[0;32mIn [54]\u001b[0m, in \u001b[0;36m<module>\u001b[0;34m\u001b[0m\n\u001b[0;32m----> 1\u001b[0m \u001b[38;5;28;01mfrom\u001b[39;00m \u001b[38;5;21;01mdomino\u001b[39;00m\u001b[38;5;21;01m.\u001b[39;00m\u001b[38;5;21;01mdata_sources\u001b[39;00m \u001b[38;5;28;01mimport\u001b[39;00m DataSourceClient,BigqueryConfig\n",
      "\u001b[0;31mImportError\u001b[0m: cannot import name 'BigqueryConfig' from 'domino.data_sources' (/opt/conda/lib/python3.8/site-packages/domino/data_sources.py)"
     ]
    }
   ],
   "source": [
    "from domino.data_sources import DataSourceClient,BigqueryConfig"
   ]
  },
  {
   "cell_type": "code",
   "execution_count": 49,
   "id": "3ccc49df-1be7-4f57-903a-1ebf410e5d15",
   "metadata": {},
   "outputs": [],
   "source": [
    "\n",
    "def query_bq(ds_name,sql):\n",
    "    j={}\n",
    "\n",
    "    config_xxl = BigQueryConfig(private_key_json=j, gcp_project_id='domino-field-eng-dev')\n",
    "    # instantiate a client and fetch the datasource instance\n",
    "    ds = DataSourceClient().get_datasource(ds_name)\n",
    "    # res is a simple wrapper of the query result\n",
    "    res = ds.query(sql)\n",
    "\n",
    "    # to_pandas() loads the result into a pandas dataframe\n",
    "    df = res.to_pandas()\n",
    "    return df"
   ]
  },
  {
   "cell_type": "code",
   "execution_count": null,
   "id": "bf7ac1d3-eb70-4171-8b5f-2a03496ba08c",
   "metadata": {},
   "outputs": [],
   "source": [
    "ds_name = \"Sameer-BQ\"\n",
    "sql = \"select * from testsameer.iris\"\n",
    "df = query_bq(ds_name,sql)\n",
    "df"
   ]
  },
  {
   "cell_type": "code",
   "execution_count": null,
   "id": "b4822b18-98ac-4287-afc3-1eb8b41929aa",
   "metadata": {},
   "outputs": [],
   "source": [
    "!/home/ubuntu/google-cloud-sdk/bin/gcloud auth activate-service-account bigquery-oct182022 --key-file /home/ubuntu/key.json"
   ]
  },
  {
   "cell_type": "code",
   "execution_count": null,
   "id": "50b1faec-9e03-44e6-82fd-864fb554aab6",
   "metadata": {},
   "outputs": [],
   "source": [
    "from google.cloud import bigquery\n",
    "from google.oauth2 import service_account\n",
    "\n",
    "# TODO(developer): Set key_path to the path to the service account key\n",
    "#                  file.\n",
    "# key_path = \"path/to/service_account.json\"\n",
    "\n",
    "credentials = service_account.Credentials.from_service_account_file(\n",
    "    '/home/ubuntu/key.json', scopes=[\"https://www.googleapis.com/auth/cloud-platform\"],\n",
    ")\n",
    "\n",
    "client = bigquery.Client(credentials=credentials, project=credentials.project_id,)\n",
    "print(credentials.project_id)\n",
    "query = \"\"\"\n",
    "   select * from testsameer.iris\n",
    "\"\"\"\n",
    "query_job = client.query(query)  # Make an API request.\n",
    "\n",
    "print(\"The query data:\")\n",
    "for row in query_job:\n",
    "    # Row values can be accessed by field name or index.\n",
    "    print(row)"
   ]
  },
  {
   "cell_type": "code",
   "execution_count": null,
   "id": "675167d3-72d6-4358-a9ef-8ed2d4cc587c",
   "metadata": {},
   "outputs": [],
   "source": [
    "! /mnt/code/get-access-token.sh /home/ubuntu/key.json \"https://www.googleapis.com/auth/cloud-platform\" > /home/ubuntu/access_token"
   ]
  },
  {
   "cell_type": "code",
   "execution_count": null,
   "id": "98d9253f-cf4d-443a-923a-fe7d2a39e6c6",
   "metadata": {},
   "outputs": [],
   "source": [
    "import os\n",
    "#open text file in read mode\n",
    "text_file = open(\"/home/ubuntu/access_token\", \"r\")\n",
    "\n",
    "#read whole file to a string\n",
    "access_token = text_file.read().rstrip()\n",
    "\n",
    "#close file\n",
    "text_file.close()\n",
    "\n",
    "#print(access_token)"
   ]
  },
  {
   "cell_type": "code",
   "execution_count": null,
   "id": "f5cbcfe8-5b22-45c7-bd77-fd0f5cc38e43",
   "metadata": {},
   "outputs": [],
   "source": [
    "client = bigquery.Client(credentials=credentials,project=\"domino-field-eng-dev\")\n",
    "query = \"\"\"\n",
    "   select * from testsameer.iris\n",
    "\"\"\"\n",
    "query_job = client.query(query)  # Make an API request.\n",
    "\n",
    "print(\"The query data:\")\n",
    "for row in query_job:\n",
    "    # Row values can be accessed by field name or index.\n",
    "    print(row)"
   ]
  },
  {
   "cell_type": "code",
   "execution_count": null,
   "id": "37c5cef7-9cb4-41ea-9706-b85b976f5e46",
   "metadata": {},
   "outputs": [],
   "source": [
    "#https://gist.github.com/ryu1kn/c76aed0af8728f659730d9c26c9ee0ed"
   ]
  },
  {
   "cell_type": "code",
   "execution_count": null,
   "id": "6d09ee68-56af-4688-b130-41135207bd43",
   "metadata": {},
   "outputs": [],
   "source": [
    "#https://docs.dominodatalab.com/en/latest/api_guide/e5761b/configuration-override/#_bigquery"
   ]
  }
 ],
 "metadata": {
  "kernelspec": {
   "display_name": "Python 3 (ipykernel)",
   "language": "python",
   "name": "python3"
  },
  "language_info": {
   "codemirror_mode": {
    "name": "ipython",
    "version": 3
   },
   "file_extension": ".py",
   "mimetype": "text/x-python",
   "name": "python",
   "nbconvert_exporter": "python",
   "pygments_lexer": "ipython3",
   "version": "3.8.12"
  }
 },
 "nbformat": 4,
 "nbformat_minor": 5
}
